{
 "cells": [
  {
   "cell_type": "markdown",
   "id": "42fdff0a",
   "metadata": {},
   "source": [
    "# README - Phân Tích Dữ Liệu\n",
    "\n",
    "## Mô Tả Dự Án\n",
    "\n",
    "Dự án này cung cấp các công cụ mạnh mẽ để phân tích dữ liệu, bao gồm các chức năng tổng hợp thông tin, trực quan hóa dữ liệu và phân tích thống kê trên các cột trong DataFrame. Các chức năng chính của dự án giúp bạn hiểu rõ hơn về dữ liệu của mình và thực hiện phân tích dữ liệu một cách hiệu quả.\n",
    "\n",
    "### Các Chức Năng Chính:\n",
    "1. **Tổng hợp các đặc trưng thống kê** cho các cột dạng số và phân loại.\n",
    "2. **Tạo bảng tổng quan** về dữ liệu, bao gồm các thông tin về các giá trị trùng lặp, thiếu, và các đặc trưng khác.\n",
    "3. **Vẽ biểu đồ đơn biến (univariate)** cho các cột dữ liệu.\n",
    "4. **Vẽ biểu đồ phân tích đa biến (multivariate)** giữa một cột chính và các cột còn lại.\n",
    "\n",
    "---"
   ]
  },
  {
   "cell_type": "code",
   "execution_count": 1,
   "id": "4985df4f",
   "metadata": {},
   "outputs": [],
   "source": [
    "#| default_exp aulys"
   ]
  },
  {
   "cell_type": "code",
   "execution_count": 2,
   "id": "44eda1c9",
   "metadata": {},
   "outputs": [],
   "source": [
    "#| hide\n",
    "import os\n",
    "import sys"
   ]
  },
  {
   "cell_type": "code",
   "execution_count": 3,
   "id": "3b1bcfd8-0f86-473f-b1f5-6627cf0c9172",
   "metadata": {},
   "outputs": [],
   "source": [
    "#| hide\n",
    "ROOT_PATH = \"\"\n",
    "for path in os.getcwd().split(\"\\\\\")[:-1]:\n",
    "    ROOT_PATH += f\"{path}/\"\n",
    "sys.path.insert(1, ROOT_PATH)"
   ]
  },
  {
   "cell_type": "code",
   "execution_count": 4,
   "id": "89dc56f9",
   "metadata": {},
   "outputs": [],
   "source": [
    "#| hide\n",
    "from nbdev.showdoc import *"
   ]
  },
  {
   "cell_type": "code",
   "execution_count": 5,
   "id": "ce67d4dd",
   "metadata": {},
   "outputs": [],
   "source": [
    "#| export\n",
    "import os\n",
    "import sys\n",
    "\n",
    "import yaml\n",
    "import pandas as pd\n",
    "import lets_plot as lp\n",
    "from IPython.display import Markdown\n",
    "\n",
    "import config\n",
    "import src.utils as utils\n",
    "import src.chart as chart\n",
    "import src.data as data"
   ]
  },
  {
   "cell_type": "code",
   "execution_count": 6,
   "id": "df16041a-086f-482d-b6d2-2780b612d591",
   "metadata": {},
   "outputs": [],
   "source": [
    "#| hide\n",
    "with open(os.path.join(ROOT_PATH, f'data/interim/mssql.yaml'), 'r') as f:\n",
    "    mssql_config = yaml.safe_load(f)\n",
    "\n",
    "with open(os.path.join(ROOT_PATH, f'data/interim/schema.yaml'), 'r') as f:\n",
    "    schema = yaml.safe_load(f)\n",
    "\n",
    "with open(os.path.join(ROOT_PATH, f'data/interim/map_cols.yaml'), 'r', encoding=\"utf8\") as f:\n",
    "    map_cols = yaml.safe_load(f)\n",
    "\n",
    "table_name = 'ODS_DW_CARD_TRANSACTION_FCT'\n",
    "\n",
    "df = pd.read_csv(\n",
    "    os.path.join(ROOT_PATH, f'data/raw/{config.TODAY}/{table_name}.csv')\n",
    ")\n",
    "\n",
    "ass_cfg = {\n",
    "    'process_dt': lambda x: pd.to_datetime(x['process_dt']),\n",
    "    'process_month': lambda x: x['process_dt'].dt.to_period(freq='M')\n",
    "}\n",
    "df_agg = (\n",
    "    df[\n",
    "        ['account_number', 'process_dt'] \n",
    "        + schema[table_name]['cat_cols']\n",
    "        + schema[table_name]['num_cols']\n",
    "    ]\n",
    "    .fillna('<unknow>')\n",
    "    .assign(\n",
    "        **ass_cfg\n",
    "    )\n",
    ")\n",
    "\n",
    "df_agg = df_agg[\n",
    "    df_agg['process_dt'] > (pd.Timestamp(config.TODAY).to_period('M') - 3).end_time\n",
    "]\n",
    "\n",
    "df_agg[schema[table_name]['cat_cols']] = df_agg[schema[table_name]['cat_cols']].astype(str)\n",
    "\n",
    "with open(\n",
    "    os.path.join(ROOT_PATH, f'data/interim/bin_cols.yaml'),\n",
    "    'r'\n",
    ") as f:\n",
    "        bin_cols = yaml.safe_load(f)"
   ]
  },
  {
   "cell_type": "code",
   "execution_count": 7,
   "id": "c3dd380a",
   "metadata": {},
   "outputs": [],
   "source": [
    "#| export\n",
    "def stast_fea(df, idx_col, cat_cols, num_cols):\n",
    "    \"\"\"\n",
    "    Tổng hợp các đặc trưng dạng số bằng các phép thống kê:\n",
    "    - Đối với dữ liệu numerical:\n",
    "        * Trung bình (`mean`)\n",
    "        * Giá trị lớn nhất (`max`)\n",
    "        * Giá trị nhỏ nhất (`min`)\n",
    "        * Tổng (`sum`)\n",
    "        * Trung vị (`median`)\n",
    "        * Hiệu số giữa max và min (`diff`)\n",
    "    - Đối với categorical:\n",
    "        * Số lượng giá trị khác nhau (`nunique`)\n",
    "        * Giá trị xuất hiện nhiều nhất (`mode`)\n",
    "        * Tần suất xuất hiện của từng giá trị trong cột phân loại\n",
    "    \n",
    "    Args:\n",
    "        df (pd.DataFrame): Dữ liệu đầu vào\n",
    "        idx_col (str): Cột index (ID nhóm)\n",
    "        num_cols (list): Danh sách các cột số để tổng hợp\n",
    "        cat_cols (list): Danh sách các cột phân loại để tổng hợp\n",
    "\n",
    "    Returns:\n",
    "        pd.DataFrame: DataFrame chứa các feature tổng hợp\n",
    "    \"\"\"\n",
    "    return data.agg_fea(\n",
    "        df=df, idx_col=idx_col, cat_cols=cat_cols, num_cols=num_cols\n",
    "    )"
   ]
  },
  {
   "cell_type": "markdown",
   "id": "9dd3fe84",
   "metadata": {},
   "source": [
    "## Tổng Hợp Đặc Trưng Thống Kê\n",
    "\n",
    "Hàm `stast_fea(df, idx_col, cat_cols, num_cols)` thực hiện việc tính toán các thống kê cho các cột số và phân loại trong DataFrame. Các thống kê này giúp bạn hiểu rõ hơn về dữ liệu của mình.\n",
    "\n",
    "### Thống Kê Cho Cột Số:\n",
    "- **Trung bình (mean)**: Tính giá trị trung bình của các phần tử trong cột.\n",
    "- **Giá trị lớn nhất (max)**: Tìm giá trị lớn nhất trong cột.\n",
    "- **Giá trị nhỏ nhất (min)**: Tìm giá trị nhỏ nhất trong cột.\n",
    "- **Tổng (sum)**: Tính tổng các giá trị trong cột.\n",
    "- **Trung vị (median)**: Tính giá trị trung vị của các phần tử trong cột.\n",
    "- **Hiệu số giữa giá trị lớn nhất và nhỏ nhất (diff)**: Tính hiệu số giữa giá trị lớn nhất và giá trị nhỏ nhất trong cột.\n",
    "\n",
    "### Thống Kê Cho Cột Phân Loại:\n",
    "- **Số lượng giá trị khác nhau (nunique)**: Đếm số lượng các giá trị duy nhất trong cột.\n",
    "- **Giá trị xuất hiện nhiều nhất (mode)**: Tìm giá trị xuất hiện nhiều nhất trong cột.\n",
    "- **Tần suất xuất hiện của từng giá trị trong cột phân loại**: Hiển thị số lần xuất hiện của từng giá trị trong cột phân loại.\n",
    "\n",
    "### Tham Số Đầu Vào:\n",
    "- **df**: DataFrame chứa dữ liệu cần tính toán thống kê.\n",
    "- **idx_col**: Cột chỉ mục (ID nhóm) để phân nhóm các giá trị.\n",
    "- **cat_cols**: Danh sách các cột phân loại (categorical) cần tính toán thống kê.\n",
    "- **num_cols**: Danh sách các cột số (numerical) cần tính toán thống kê.\n",
    "\n",
    "### Ví Dụ Sử Dụng\n",
    "\n",
    "Giả sử bạn có một DataFrame `df` và muốn tính toán các thống kê cho các cột phân loại và số, với cột `account_number` là chỉ mục:\n",
    "\n",
    "```python\n",
    "stast_fea(df, idx_col='account_number', cat_cols=['category1', 'category2'], num_cols=['amount', 'quantity'])\n"
   ]
  },
  {
   "cell_type": "markdown",
   "id": "7f83420b",
   "metadata": {},
   "source": [
    "Ví dụ sử dụng"
   ]
  },
  {
   "cell_type": "code",
   "execution_count": 8,
   "id": "c1efceb2-b53f-4f03-bbad-abfacf6ed305",
   "metadata": {},
   "outputs": [],
   "source": [
    "# df_acc = stast_fea(\n",
    "#     df=df_agg, \n",
    "#     idx_col='account_number', \n",
    "#     cat_cols=schema[table_name]['cat_cols'], \n",
    "#     num_cols=schema[table_name]['num_cols']\n",
    "# )"
   ]
  },
  {
   "cell_type": "code",
   "execution_count": 9,
   "id": "df350b07",
   "metadata": {},
   "outputs": [],
   "source": [
    "#| export\n",
    "def overview_table(df):\n",
    "    \"\"\"\n",
    "    Tạo bảng tổng quan về dữ liệu, bao gồm:\n",
    "    - Số lượng giá trị trùng lặp (`Count_duplicate`)\n",
    "    - Số lượng giá trị bị thiếu (`Count_missing`)\n",
    "    - Tỷ lệ phần trăm giá trị bị thiếu (`Percent_missing`)\n",
    "    - Số lượng giá trị duy nhất (`Count_distinct`)\n",
    "    - Số lượng giá trị bằng 0 (`Count_zero`, chỉ áp dụng cho kiểu số)\n",
    "    - Tỷ lệ phần trăm giá trị bằng 0 (`Percent_zero`, chỉ áp dụng cho kiểu số)\n",
    "    \n",
    "    Args:\n",
    "        df (pd.DataFrame, optional): DataFrame đầu vào.\n",
    "    \n",
    "    Returns:\n",
    "        pd.DataFrame: DataFrame chứa thông tin tổng quan về các cột.\n",
    "    \"\"\"\n",
    "    return utils.overview_table(df=df)"
   ]
  },
  {
   "cell_type": "markdown",
   "id": "d2103db1",
   "metadata": {},
   "source": [
    "## Tạo Bảng Tổng Quan Về Dữ Liệu\n",
    "\n",
    "Hàm `overview_table(df)` giúp bạn tạo ra một bảng tổng quan cho các cột trong DataFrame, cung cấp các thông tin cơ bản về dữ liệu của bạn.\n",
    "\n",
    "### Các Thông Tin Tổng Quan:\n",
    "Bảng tổng quan sẽ bao gồm các thông tin sau cho mỗi cột trong DataFrame:\n",
    "- **Số lượng giá trị trùng lặp (Count_duplicate)**: Số lượng các giá trị bị trùng lặp trong cột.\n",
    "- **Số lượng giá trị bị thiếu (Count_missing)**: Số lượng các giá trị bị thiếu (NaN) trong cột.\n",
    "- **Tỷ lệ phần trăm giá trị bị thiếu (Percent_missing)**: Tỷ lệ phần trăm các giá trị bị thiếu trong cột.\n",
    "- **Số lượng giá trị duy nhất (Count_distinct)**: Số lượng các giá trị khác nhau trong cột.\n",
    "- **Số lượng giá trị bằng 0 (Count_zero)**: Số lượng giá trị bằng 0 trong cột (chỉ áp dụng cho các cột có kiểu số).\n",
    "- **Tỷ lệ phần trăm giá trị bằng 0 (Percent_zero)**: Tỷ lệ phần trăm giá trị bằng 0 trong cột (chỉ áp dụng cho các cột có kiểu số).\n",
    "\n",
    "### Tham Số Đầu Vào:\n",
    "- **df**: DataFrame chứa dữ liệu cần tính toán thống kê.\n",
    "\n",
    "### Ví Dụ Sử Dụng\n",
    "\n",
    "Giả sử bạn có một DataFrame `df` và muốn tạo bảng tổng quan về dữ liệu:"
   ]
  },
  {
   "cell_type": "code",
   "execution_count": 10,
   "id": "59cdc82b-2b65-4194-aedc-cffcb53133e8",
   "metadata": {},
   "outputs": [],
   "source": [
    "# overview_table(df=df_acc)"
   ]
  },
  {
   "cell_type": "code",
   "execution_count": 11,
   "id": "51ee43cf-33ea-4ae9-ae4c-477bcd896781",
   "metadata": {},
   "outputs": [],
   "source": [
    "#| export\n",
    "def plot_univariate(df, bin_cols):\n",
    "    \"\"\"\n",
    "    Vẽ biểu đồ đơn biến (univariate) cho tất cả các cột trong DataFrame.\n",
    "\n",
    "    - Nếu là cột phân loại (chuỗi): vẽ biểu đồ tần suất.\n",
    "    - Nếu là cột số: chia bin rồi vẽ biểu đồ.\n",
    "\n",
    "    Args:\n",
    "        df (pd.DataFrame): Dữ liệu đầu vào (cột đầu tiên thường là ID, sẽ bỏ qua).\n",
    "        bin_cols (dict): Từ điển chứa các giá trị phân bin cho các cột số.\n",
    "    \"\"\"\n",
    "    display(chart.plot_univariate(df=df, bin_cols=bin_cols))"
   ]
  },
  {
   "cell_type": "markdown",
   "id": "fc39a33d",
   "metadata": {},
   "source": [
    "## Vẽ Biểu Đồ Đơn Biến\n",
    "\n",
    "Hàm `plot_univariate(df)` vẽ biểu đồ đơn biến cho tất cả các cột trong DataFrame:\n",
    "\n",
    "- **Các cột phân loại (chuỗi)** sẽ được vẽ biểu đồ tần suất.\n",
    "- **Các cột số** sẽ được chia thành các bin và vẽ biểu đồ phân phối.\n",
    "\n",
    "### Tham Số Đầu Vào:\n",
    "- **df**: DataFrame chứa dữ liệu cần tính toán thống kê.\n",
    "- **bin_cols**: Từ điển chứa các giá trị phân bin cho các cột số.\n",
    "\n",
    "### Cấu Hình Bin\n",
    "\n",
    "Để cấu hình các mốc bin cho các cột số, bạn cần tạo một file `config.yaml` trong thư mục `data/interim/` với cấu trúc sau:\n",
    "\n",
    "```json\n",
    "{\n",
    "    \"tên_cột_1\": [x1, x2, x3, ...],\n",
    "    \"tên_cột_2\": [x1, x2, x3, ...]\n",
    "}\n",
    "\n",
    "\n",
    "# Trong đó: x1, x2, x3 là các mốc bin muốn chia\n",
    "\n",
    "#Ví dụ\n",
    "{\n",
    "    \"age\": [20, 30, 40, 50, 60],\n",
    "    \"income\": [1000, 2000, 3000, 4000, 5000]\n",
    "}\n"
   ]
  },
  {
   "cell_type": "markdown",
   "id": "3b93cf45",
   "metadata": {},
   "source": [
    "Ví dụ sử dụng"
   ]
  },
  {
   "cell_type": "code",
   "execution_count": 12,
   "id": "167a1757",
   "metadata": {},
   "outputs": [],
   "source": [
    "# plot_univariate(df=df_acc, bin_cols=bin_cols)"
   ]
  },
  {
   "cell_type": "code",
   "execution_count": 13,
   "id": "d2b4c970-1d4b-4cdd-8782-464c73c226ac",
   "metadata": {},
   "outputs": [],
   "source": [
    "#| export\n",
    "def plot_multivariate(df, column, bin_cols):\n",
    "    \"\"\"\n",
    "    Vẽ biểu đồ phân tích đa biến giữa một cột chính (`column`) với tất cả các cột còn lại.\n",
    "    Tùy vào kiểu dữ liệu (chuỗi hoặc số), cột được chia bin hoặc chuyển thành chuỗi để trực quan hóa.\n",
    "\n",
    "    Args:\n",
    "        df (pd.DataFrame): Dữ liệu đầu vào.\n",
    "        column (str): Cột chính cần phân tích.\n",
    "        bin_cols (dict): Dictionary chứa thông tin bin cho các cột số.\n",
    "\n",
    "    Returns:\n",
    "        None: Hiển thị biểu đồ crosstab cho từng cặp biến.\n",
    "    \"\"\"\n",
    "    display(chart.plot_multivariate(df=df, column=column, bin_cols=bin_cols))"
   ]
  },
  {
   "cell_type": "markdown",
   "id": "4c71a0b3",
   "metadata": {},
   "source": [
    "## Vẽ Biểu Đồ Phân Tích Đa Biến\n",
    "\n",
    "Hàm `plot_multivariate(df, column)` vẽ biểu đồ phân tích đa biến giữa một cột chính (`column`) và tất cả các cột còn lại trong DataFrame.\n",
    "\n",
    "### Mô Tả\n",
    "- Hàm sẽ phân tích mối quan hệ giữa **cột chính** (`column`) và các cột còn lại trong DataFrame.\n",
    "- Tùy thuộc vào kiểu dữ liệu của các cột còn lại (cột số hoặc cột phân loại), các cột này sẽ được xử lý và chuyển đổi phù hợp để hiển thị biểu đồ **crosstab** (ma trận chéo).\n",
    "\n",
    "### Cách Hoạt Động:\n",
    "- Nếu các cột còn lại là **cột phân loại (chuỗi)**, hàm sẽ chuyển đổi các giá trị trong cột thành các nhóm và vẽ biểu đồ crosstab.\n",
    "- Nếu các cột còn lại là **cột số** (numerical), hàm sẽ phân chia các giá trị thành các bin hoặc hiển thị theo các nhóm để thể hiện mối quan hệ với cột chính.\n",
    "\n",
    "### Tham Số Đầu Vào:\n",
    "- **df**: DataFrame chứa dữ liệu cần tính toán thống kê.\n",
    "- **column**: Cột chính cần phân tích.\n",
    "- **bin_cols**: DaDictionary chứa thông tin bin cho các cột số.\n",
    "\n",
    "### Ví Dụ Sử Dụng\n",
    "\n",
    "Giả sử bạn muốn phân tích mối quan hệ giữa cột `mean_oper_request_amount` (một cột số) và các cột còn lại trong DataFrame, bạn có thể sử dụng hàm như sau:"
   ]
  },
  {
   "cell_type": "markdown",
   "id": "a8b9cbc5",
   "metadata": {},
   "source": [
    "Chú ý: nếu muốn chỉnh bins thì có thể chia cột config tương tự"
   ]
  },
  {
   "cell_type": "code",
   "execution_count": 14,
   "id": "432d9c6e",
   "metadata": {},
   "outputs": [],
   "source": [
    "# plot_multivariate(df=df_acc, column='mean_oper_request_amount')"
   ]
  },
  {
   "cell_type": "code",
   "execution_count": 15,
   "id": "18330ff7",
   "metadata": {},
   "outputs": [],
   "source": [
    "#| hide\n",
    "import nbdev; nbdev.nbdev_export()"
   ]
  }
 ],
 "metadata": {
  "kernelspec": {
   "display_name": "base",
   "language": "python",
   "name": "python3"
  },
  "language_info": {
   "name": "python",
   "version": "3.13.2"
  }
 },
 "nbformat": 4,
 "nbformat_minor": 5
}
